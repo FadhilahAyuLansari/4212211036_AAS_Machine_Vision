{
  "nbformat": 4,
  "nbformat_minor": 0,
  "metadata": {
    "colab": {
      "provenance": [],
      "authorship_tag": "ABX9TyN8K+9YoLU8r/rmTggza7HJ",
      "include_colab_link": true
    },
    "kernelspec": {
      "name": "python3",
      "display_name": "Python 3"
    },
    "language_info": {
      "name": "python"
    }
  },
  "cells": [
    {
      "cell_type": "markdown",
      "metadata": {
        "id": "view-in-github",
        "colab_type": "text"
      },
      "source": [
        "<a href=\"https://colab.research.google.com/github/FadhilahAyuLansari/4212211036_AAS_Machine_Vision/blob/main/4212211036_aas_machine_vision.ipynb\" target=\"_parent\"><img src=\"https://colab.research.google.com/assets/colab-badge.svg\" alt=\"Open In Colab\"/></a>"
      ]
    },
    {
      "cell_type": "code",
      "execution_count": null,
      "metadata": {
        "id": "IblZvkFa7Ss9"
      },
      "outputs": [],
      "source": [
        "import pandas as pd\n",
        " import torch\n",
        " import numpy as np\n",
        " from torchvision import transforms, models\n",
        " from torch.utils.data import Dataset, DataLoader\n",
        " from torch import nn, optim\n",
        " from PIL import Image\n",
        " from sklearn.metrics import confusion_matrix, accuracy_score, precision_score, f1_score\n",
        " from tqdm import tqdm"
      ]
    },
    {
      "cell_type": "code",
      "source": [
        "train_data = pd.read_csv('/emnist-bymerge-train.csv', header=None, nrows=500)\n",
        " test_data = pd.read_csv('/emnist-bymerge-test.csv', header=None, nrows=500)"
      ],
      "metadata": {
        "id": "nhQCyTiH7-p6"
      },
      "execution_count": null,
      "outputs": []
    },
    {
      "cell_type": "code",
      "source": [
        "def preprocess_image(data):\n",
        "    data = np.clip(data, 0, 255).astype(np.uint8).reshape(28, 28)\n",
        "    return Image.fromarray(data).convert(\"RGB\")"
      ],
      "metadata": {
        "id": "S0WP9QZz8NzK"
      },
      "execution_count": null,
      "outputs": []
    },
    {
      "cell_type": "code",
      "source": [
        "class CustomDataset(Dataset):\n",
        "    def _init_(self, dataframe, transform=None):\n",
        "        \"\"\"\n",
        "        Initialize the dataset with a DataFrame and optional image transformations.\n",
        "        \"\"\"\n",
        "        self.dataframe = dataframe\n",
        "        self.transform = transform\n",
        "    def _len_(self):\n",
        "        \"\"\"\n",
        "        Returns the total number of samples in the dataset.\n",
        "        \"\"\"\n",
        "        return len(self.dataframe)\n",
        "    def _getitem_(self, idx):\n",
        "        \"\"\"\n",
        "        Retrieves the image and label for a given index, applies preprocessing and transformations.\n",
        "        \"\"\"\n",
        "        label = self.dataframe.iloc[idx, 0]\n",
        "        img_data = self.dataframe.iloc[idx, 1:].values\n",
        "        image = preprocess_image(img_data)\n",
        "        if self.transform:\n",
        "            image = self.transform(image)\n",
        "        return image, label\n",
        "\n",
        "    transform = transforms.Compose([\n",
        "    transforms.Resize((224, 224)),\n",
        "    transforms.ToTensor()\n",
        "    ])"
      ],
      "metadata": {
        "id": "8mmNP2xX8TwY"
      },
      "execution_count": null,
      "outputs": []
    },
    {
      "cell_type": "code",
      "source": [
        "# Create datasets and data loaders for training and validation\n",
        " # Use train_data and test_data instead of data_train and data_val\n",
        " train_dataset = CustomDataset(train_data, transform=CustomDataset.transform)  # Use CustomDataset.transform\n",
        " val_dataset = CustomDataset(test_data, transform=CustomDataset.transform)  # Use CustomDataset.transform\n",
        " train_loader = DataLoader(train_dataset, batch_size=4, shuffle=True)  # Training data loader\n",
        " val_loader = DataLoader(val_dataset, batch_size=4, shuffle=False)    # Validation data loader"
      ],
      "metadata": {
        "id": "7V1cyrDR8Zh3"
      },
      "execution_count": null,
      "outputs": []
    },
    {
      "cell_type": "code",
      "source": [
        "# Initialize a pretrained AlexNet model for transfer learning\n",
        "model = models.alexnet(pretrained=True)\n",
        "model.classifier[6] = nn.Linear(4096, 200)"
      ],
      "metadata": {
        "id": "nClWRDTc8dM7"
      },
      "execution_count": null,
      "outputs": []
    },
    {
      "cell_type": "code",
      "source": [
        "# Freeze feature extraction layers to only train the classifier\n",
        "for param in model.features.parameters():\n",
        "    param.requires_grad = False"
      ],
      "metadata": {
        "id": "TOv8M2wh8gg9"
      },
      "execution_count": null,
      "outputs": []
    },
    {
      "cell_type": "code",
      "source": [
        "# Define loss function and optimizer\n",
        " criterion = nn.CrossEntropyLoss()\n",
        " optimizer = optim.Adam(model.parameters(), lr=0.0001)"
      ],
      "metadata": {
        "id": "XZ2xzFbm8kFh"
      },
      "execution_count": null,
      "outputs": []
    },
    {
      "cell_type": "code",
      "source": [
        "# Configure the device for GPU acceleration (if available)\n",
        " device = torch.device('cuda' if torch.cuda.is_available() else 'cpu')\n",
        " model.to(device)"
      ],
      "metadata": {
        "id": "l0gGtsvQ8nVc"
      },
      "execution_count": null,
      "outputs": []
    },
    {
      "cell_type": "code",
      "source": [
        "# Training Loop\n",
        " from sklearn.model_selection import LeaveOneOut\n",
        " from sklearn.metrics import confusion_matrix, accuracy_score, precision_score, f1_score"
      ],
      "metadata": {
        "id": "6m8jKD9s8q5s"
      },
      "execution_count": null,
      "outputs": []
    },
    {
      "cell_type": "code",
      "source": [
        "# Convert the training data into a NumPy array for LOOCV\n",
        " data_array = train_data.to_numpy()"
      ],
      "metadata": {
        "id": "bI6m-Ftw8uig"
      },
      "execution_count": null,
      "outputs": []
    },
    {
      "cell_type": "code",
      "source": [
        "# Initialize lists to store predictions and labels for evaluation\n",
        " all_preds, all_labels = [], []\n",
        " print(\"Starting LOOCV...\")"
      ],
      "metadata": {
        "id": "qK__XIG88xYj"
      },
      "execution_count": null,
      "outputs": []
    },
    {
      "cell_type": "code",
      "source": [
        "# Leave-One-Out Cross Validation implementation\n",
        "loo = LeaveOneOut()\n",
        "for train_idx, test_idx in tqdm(loo.split(data_array)):\n",
        "    # Split data into training and test sets for this fold\n",
        "    train_samples = data_array[train_idx]\n",
        "    test_sample = data_array[test_idx]\n",
        "    # Create datasets and dataloaders for the current LOOCV split\n",
        "    train_dataset = CustomDataset(pd.DataFrame(train_samples), transform=CustomDataset.transform)\n",
        "    test_dataset = CustomDataset(pd.DataFrame(test_sample), transform=CustomDataset.transform)\n",
        "    train_loader = DataLoader(train_dataset, batch_size=4, shuffle=True)\n",
        "    test_loader = DataLoader(test_dataset, batch_size=1, shuffle=False)\n",
        "     # Reinitialize the model and optimizer for each LOOCV iteration\n",
        "    model = models.alexnet(pretrained=True)\n",
        "    model.classifier[6] = nn.Linear(4096, 200)\n",
        "    model.to(device)\n",
        "    criterion = nn.CrossEntropyLoss()\n",
        "    optimizer = optim.Adam(model.parameters(), lr=0.0001)\n",
        "    # Training loop for the current fold\n",
        "    model.train()\n",
        "    for inputs, labels in train_loader:\n",
        "        inputs, labels = inputs.to(device), labels.to(device)\n",
        "        optimizer.zero_grad()\n",
        "        outputs = model(inputs)\n",
        "        loss = criterion(outputs, labels)\n",
        "        loss.backward()\n",
        "        optimizer.step()\n",
        "    # Validation loop for the current fold\n",
        "    model.eval()\n",
        "    with torch.no_grad(): # Corrected indentation here\n",
        "        for inputs, labels in test_loader:\n",
        "            inputs, labels = inputs.to(device), labels.to(device)\n",
        "            outputs = model(inputs)\n",
        "            all_preds.append(torch.argmax(outputs, dim=1).cpu().item())\n",
        "            all_labels.append(labels.cpu().item())"
      ],
      "metadata": {
        "id": "y8YH8F92827w"
      },
      "execution_count": null,
      "outputs": []
    },
    {
      "cell_type": "code",
      "source": [
        "# Calculate evaluation metrics\n",
        " conf_matrix = confusion_matrix(all_labels, all_preds)  # Confusion matrix\n",
        " accuracy = accuracy_score(all_labels, all_preds)      # Accuracy score\n",
        " precision = precision_score(all_labels, all_preds, average=\"macro\", zero_division=0)  # Precision score\n",
        " f1 = f1_score(all_labels, all_preds, average=\"macro\") # F1 score"
      ],
      "metadata": {
        "id": "inOpy8zh87DO"
      },
      "execution_count": null,
      "outputs": []
    },
    {
      "cell_type": "code",
      "source": [
        "# Display evaluation results\n",
        "print(\"\\nEvaluation Results:\")\n",
        "print(f\"Confusion Matrix:\\n{conf_matrix}\")\n",
        "print(f\"Accuracy: {accuracy:.4f}\")\n",
        "print(f\"Precision: {precision:.4f}\")\n",
        "print(f\"F1-Score: {f1:.4f}\")"
      ],
      "metadata": {
        "id": "gbpqT4Hu8-ku"
      },
      "execution_count": null,
      "outputs": []
    }
  ]
}